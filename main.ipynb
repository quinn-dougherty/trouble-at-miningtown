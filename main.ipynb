{
 "cells": [
  {
   "cell_type": "code",
   "execution_count": 1,
   "metadata": {},
   "outputs": [],
   "source": [
    "from gameboard import GameBoard, write, randint\n",
    "#from numpy.random import randint \n",
    "import ipywidgets as widgets\n",
    "from IPython.display import display\n",
    "\n",
    "button = widgets.Button(description=\"d10\", button_style='info')\n",
    "output = widgets.Output()\n",
    "#display(button, output)\n",
    "def on_button_clicked(b):\n",
    "    with output:\n",
    "        return write('\\b\\r'+'\\033[1;33;41m'+f\" {str(randint(10) + 1)} \")\n",
    "\n",
    "d10 = button.on_click(on_button_clicked)\n",
    "\n",
    "gb = GameBoard(dim=3, unit=8)\n",
    "gb.init_game()\n"
   ]
  },
  {
   "cell_type": "code",
   "execution_count": 2,
   "metadata": {
    "scrolled": false
   },
   "outputs": [
    {
     "name": "stdout",
     "output_type": "stream",
     "text": [
      "************************************************\n",
      "************************************************\n",
      "************************************************\n",
      "************************************************\n",
      "************************************************\n",
      "************************************************\n",
      "************************************************\n",
      "************************************************\n",
      "************************************************\n",
      "************************************************\n",
      "************************************************\n",
      "************************************************\n",
      "************************************************\n",
      "************************************************\n",
      "************************************************\n",
      "************************************************\n",
      "********************************\u001b[1;31m#\u001b[0m\u001b[1;31m#\u001b[0m\u001b[1;31m#\u001b[0m\u001b[1;31m#\u001b[0m\u001b[1;31m#\u001b[0m\u001b[1;31m#\u001b[0m\u001b[1;31m#\u001b[0m\u001b[1;31m#\u001b[0m^\u001b[1;31m#\u001b[0m\u001b[1;31m#\u001b[0m\u001b[1;31m#\u001b[0m\u001b[1;31m#\u001b[0m\u001b[1;31m#\u001b[0m\u001b[1;31m#\u001b[0m\u001b[1;31m#\u001b[0m\n",
      "********************************\u001b[1;31m#\u001b[0m8             \u001b[1;31m#\u001b[0m\n",
      "********************************\u001b[1;31m#\u001b[0m            C \u001b[1;31m#\u001b[0m\n",
      "********************************\u001b[1;31m#\u001b[0m              \u001b[1;31m#\u001b[0m\n",
      "********************************^              ^\n",
      "********************************\u001b[1;31m#\u001b[0m     \u001b[1;34m@\u001b[0m        \u001b[1;31m#\u001b[0m\n",
      "********************************\u001b[1;31m#\u001b[0m              \u001b[1;31m#\u001b[0m\n",
      "********************************\u001b[1;31m#\u001b[0m\u001b[1;31m#\u001b[0m\u001b[1;31m#\u001b[0m\u001b[1;31m#\u001b[0m\u001b[1;31m#\u001b[0m\u001b[1;31m#\u001b[0m\u001b[1;31m#\u001b[0m\u001b[1;31m#\u001b[0m^\u001b[1;31m#\u001b[0m\u001b[1;31m#\u001b[0m\u001b[1;31m#\u001b[0m\u001b[1;31m#\u001b[0m\u001b[1;31m#\u001b[0m\u001b[1;31m#\u001b[0m\u001b[1;31m#\u001b[0m\n"
     ]
    },
    {
     "data": {
      "application/vnd.jupyter.widget-view+json": {
       "model_id": "e2a74551a5d342068ee0a56464d69888",
       "version_major": 2,
       "version_minor": 0
      },
      "text/plain": [
       "Button(button_style='info', description='d10', style=ButtonStyle())"
      ]
     },
     "metadata": {},
     "output_type": "display_data"
    },
    {
     "data": {
      "application/vnd.jupyter.widget-view+json": {
       "model_id": "09d19946cfff4611beef48dba40cddfe",
       "version_major": 2,
       "version_minor": 0
      },
      "text/plain": [
       "Output()"
      ]
     },
     "metadata": {},
     "output_type": "display_data"
    }
   ],
   "source": [
    "\n",
    "#gb.mv_party(6, 'N')\n",
    "\n",
    "# gb.butterfly_reset(3)\n",
    "\n",
    "gb.show_dungeon(denoised = False)\n",
    "display(button, output)"
   ]
  },
  {
   "cell_type": "code",
   "execution_count": 4,
   "metadata": {},
   "outputs": [
    {
     "data": {
      "text/plain": [
       "3"
      ]
     },
     "execution_count": 4,
     "metadata": {},
     "output_type": "execute_result"
    }
   ],
   "source": [
    "10//3"
   ]
  },
  {
   "cell_type": "code",
   "execution_count": null,
   "metadata": {},
   "outputs": [],
   "source": [
    "num = 6\n",
    "\n",
    "gb.dungeon[num][1,2*gb.UNIT-2]"
   ]
  },
  {
   "cell_type": "code",
   "execution_count": null,
   "metadata": {},
   "outputs": [],
   "source": [
    "[1,2*gb.UNIT-2]"
   ]
  },
  {
   "cell_type": "code",
   "execution_count": null,
   "metadata": {},
   "outputs": [],
   "source": []
  },
  {
   "cell_type": "code",
   "execution_count": null,
   "metadata": {},
   "outputs": [],
   "source": []
  },
  {
   "cell_type": "code",
   "execution_count": null,
   "metadata": {},
   "outputs": [],
   "source": []
  },
  {
   "cell_type": "code",
   "execution_count": null,
   "metadata": {},
   "outputs": [],
   "source": []
  },
  {
   "cell_type": "code",
   "execution_count": null,
   "metadata": {},
   "outputs": [],
   "source": []
  },
  {
   "cell_type": "code",
   "execution_count": null,
   "metadata": {},
   "outputs": [],
   "source": []
  },
  {
   "cell_type": "code",
   "execution_count": null,
   "metadata": {},
   "outputs": [],
   "source": [
    "from numpy.random import choice\n",
    "\n",
    "choice([x for x in \"abc\"], 5)"
   ]
  },
  {
   "cell_type": "code",
   "execution_count": null,
   "metadata": {},
   "outputs": [],
   "source": []
  }
 ],
 "metadata": {
  "kernelspec": {
   "display_name": "Python 3",
   "language": "python",
   "name": "python3"
  },
  "language_info": {
   "codemirror_mode": {
    "name": "ipython",
    "version": 3
   },
   "file_extension": ".py",
   "mimetype": "text/x-python",
   "name": "python",
   "nbconvert_exporter": "python",
   "pygments_lexer": "ipython3",
   "version": "3.7.3"
  }
 },
 "nbformat": 4,
 "nbformat_minor": 2
}
